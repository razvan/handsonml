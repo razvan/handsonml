{
 "cells": [
  {
   "cell_type": "markdown",
   "metadata": {},
   "source": [
    "# Training models\n",
    "\n",
    "Gradient descent"
   ]
  },
  {
   "cell_type": "code",
   "execution_count": null,
   "metadata": {},
   "outputs": [],
   "source": [
    "#import pandas as pd\n",
    "import numpy as np\n",
    "import matplotlib.pyplot as plt"
   ]
  },
  {
   "cell_type": "code",
   "execution_count": null,
   "metadata": {},
   "outputs": [],
   "source": [
    "m = 100 # number of samples\n",
    "theta = [4,3] # parameters to be learned\n",
    "\n",
    "X = 2 * np.random.rand(m, 1)\n",
    "y = theta[0] + theta[1]*X + np.random.randn(m, 1) # add some noise\n",
    "X_b = np.c_[np.ones((m,1)), X] # add the bias column"
   ]
  },
  {
   "cell_type": "code",
   "execution_count": null,
   "metadata": {},
   "outputs": [],
   "source": [
    "def batch_gradient_descent(eta=0.1, num_iterations=1000):\n",
    "    \"\"\"\n",
    "    Straight forward batch gradient descent\n",
    "    eta = learning rate\n",
    "    \"\"\"\n",
    "    theta_hat = np.random.randn(2,1)\n",
    "\n",
    "    for iteration in range(num_iterations):\n",
    "        gradients = 2/m * X_b.T.dot(X_b.dot(theta_hat) - y)\n",
    "        theta_hat = theta_hat - eta * gradients\n",
    "    \n",
    "    return theta_hat"
   ]
  },
  {
   "cell_type": "code",
   "execution_count": null,
   "metadata": {},
   "outputs": [],
   "source": [
    "batch_gradient_descent()"
   ]
  },
  {
   "cell_type": "code",
   "execution_count": null,
   "metadata": {},
   "outputs": [],
   "source": [
    "def stochastic_gradient_descent(eta=0.1, n_epochs=50):\n",
    "    \"\"\"\n",
    "    Stochastic gradient descent with \"learning schedule\" where\n",
    "    the learning rate is reduced as gradient advances.\n",
    "    \"\"\"\n",
    "    t0, t1 = 5, 50 # learning schedule hyperparams (see simmulated annealing)\n",
    "    learning_schedule = lambda t: t0 / (t + t1)\n",
    "    \n",
    "    theta_hat = np.random.randn(2,1)\n",
    "\n",
    "    for epoch in range(n_epochs):\n",
    "        for i in range(m):\n",
    "            random_index = np.random.randint(m)\n",
    "            xi = X_b[random_index:random_index+1]\n",
    "            yi = y[random_index:random_index+1]\n",
    "            gradients = 2 * xi.T.dot(xi.dot(theta_hat) - yi)\n",
    "            eta = learning_schedule(epoch * m + i)\n",
    "            theta_hat = theta_hat - eta * gradients\n",
    "    \n",
    "    return theta_hat"
   ]
  },
  {
   "cell_type": "code",
   "execution_count": null,
   "metadata": {},
   "outputs": [],
   "source": [
    "stochastic_gradient_descent()"
   ]
  },
  {
   "cell_type": "code",
   "execution_count": null,
   "metadata": {},
   "outputs": [],
   "source": []
  }
 ],
 "metadata": {
  "kernelspec": {
   "display_name": "Python 3",
   "language": "python",
   "name": "python3"
  },
  "language_info": {
   "codemirror_mode": {
    "name": "ipython",
    "version": 3
   },
   "file_extension": ".py",
   "mimetype": "text/x-python",
   "name": "python",
   "nbconvert_exporter": "python",
   "pygments_lexer": "ipython3",
   "version": "3.6.7"
  }
 },
 "nbformat": 4,
 "nbformat_minor": 2
}
